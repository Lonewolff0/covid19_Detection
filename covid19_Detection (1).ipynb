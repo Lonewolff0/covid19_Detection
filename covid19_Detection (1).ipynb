{
 "cells": [
  {
   "cell_type": "code",
   "execution_count": 3,
   "id": "0d4b8272",
   "metadata": {},
   "outputs": [],
   "source": [
    "TRAIN_PATH = \"C:/Users/lenovo/Downloads/CovidDataset-20200427T133042Z-001/CovidDataset/Train\"\n",
    "VAL_PATH = \"C:/Users/lenovo/Downloads/CovidDataset-20200427T133042Z-001/CovidDataset/Val\"\n"
   ]
  },
  {
   "cell_type": "code",
   "execution_count": null,
   "id": "8f149999",
   "metadata": {},
   "outputs": [],
   "source": []
  },
  {
   "cell_type": "code",
   "execution_count": 32,
   "id": "59f473fa",
   "metadata": {},
   "outputs": [],
   "source": [
    "import numpy as np\n",
    "import matplotlib.pyplot as plt\n",
    "import keras\n",
    "from keras.layers import *\n",
    "from keras.models import * \n",
    "from keras.preprocessing import image"
   ]
  },
  {
   "cell_type": "code",
   "execution_count": 5,
   "id": "4748eeac",
   "metadata": {},
   "outputs": [],
   "source": [
    "model = Sequential()\n",
    "model.add(Conv2D(32,kernel_size=(3,3),activation='relu',input_shape=(224,224,3)))\n",
    "model.add(Conv2D(64,(3,3),activation='relu'))\n",
    "model.add(MaxPooling2D(pool_size=(2,2)))\n",
    "model.add(Dropout(0.25))\n",
    "\n",
    "model.add(Conv2D(64,(3,3),activation='relu'))\n",
    "model.add(MaxPooling2D(pool_size=(2,2)))\n",
    "model.add(Dropout(0.25))\n",
    "\n",
    "model.add(Conv2D(128,(3,3),activation='relu'))\n",
    "model.add(MaxPooling2D(pool_size=(2,2)))\n",
    "model.add(Dropout(0.25))\n",
    "\n",
    "model.add(Flatten())\n",
    "model.add(Dense(64,activation='relu'))\n",
    "model.add(Dropout(0.5))\n",
    "model.add(Dense(1,activation='sigmoid'))\n",
    "\n",
    "model.compile(loss=keras.losses.binary_crossentropy,optimizer='adam',metrics=['accuracy'])"
   ]
  },
  {
   "cell_type": "code",
   "execution_count": 6,
   "id": "31f6c5d7",
   "metadata": {},
   "outputs": [
    {
     "name": "stdout",
     "output_type": "stream",
     "text": [
      "Model: \"sequential\"\n",
      "_________________________________________________________________\n",
      "Layer (type)                 Output Shape              Param #   \n",
      "=================================================================\n",
      "conv2d (Conv2D)              (None, 222, 222, 32)      896       \n",
      "_________________________________________________________________\n",
      "conv2d_1 (Conv2D)            (None, 220, 220, 64)      18496     \n",
      "_________________________________________________________________\n",
      "max_pooling2d (MaxPooling2D) (None, 110, 110, 64)      0         \n",
      "_________________________________________________________________\n",
      "dropout (Dropout)            (None, 110, 110, 64)      0         \n",
      "_________________________________________________________________\n",
      "conv2d_2 (Conv2D)            (None, 108, 108, 64)      36928     \n",
      "_________________________________________________________________\n",
      "max_pooling2d_1 (MaxPooling2 (None, 54, 54, 64)        0         \n",
      "_________________________________________________________________\n",
      "dropout_1 (Dropout)          (None, 54, 54, 64)        0         \n",
      "_________________________________________________________________\n",
      "conv2d_3 (Conv2D)            (None, 52, 52, 128)       73856     \n",
      "_________________________________________________________________\n",
      "max_pooling2d_2 (MaxPooling2 (None, 26, 26, 128)       0         \n",
      "_________________________________________________________________\n",
      "dropout_2 (Dropout)          (None, 26, 26, 128)       0         \n",
      "_________________________________________________________________\n",
      "flatten (Flatten)            (None, 86528)             0         \n",
      "_________________________________________________________________\n",
      "dense (Dense)                (None, 64)                5537856   \n",
      "_________________________________________________________________\n",
      "dropout_3 (Dropout)          (None, 64)                0         \n",
      "_________________________________________________________________\n",
      "dense_1 (Dense)              (None, 1)                 65        \n",
      "=================================================================\n",
      "Total params: 5,668,097\n",
      "Trainable params: 5,668,097\n",
      "Non-trainable params: 0\n",
      "_________________________________________________________________\n"
     ]
    }
   ],
   "source": [
    "model.summary()"
   ]
  },
  {
   "cell_type": "code",
   "execution_count": 33,
   "id": "992aa1fd",
   "metadata": {},
   "outputs": [],
   "source": [
    "train_datagen = image.ImageDataGenerator(\n",
    "    rescale = 1./255,\n",
    "    shear_range = 0.2,\n",
    "    zoom_range = 0.2,\n",
    "    horizontal_flip = True,\n",
    ")\n",
    "\n",
    "test_dataset = image.ImageDataGenerator(rescale=1./255)"
   ]
  },
  {
   "cell_type": "code",
   "execution_count": 8,
   "id": "1496144d",
   "metadata": {},
   "outputs": [
    {
     "name": "stdout",
     "output_type": "stream",
     "text": [
      "Found 224 images belonging to 2 classes.\n"
     ]
    }
   ],
   "source": [
    "train_generator = train_datagen.flow_from_directory(\n",
    "    'C:/Users/lenovo/Downloads/CovidDataset-20200427T133042Z-001/CovidDataset/Train',\n",
    "    target_size = (224,224),\n",
    "    batch_size = 32,\n",
    "    class_mode = 'binary')"
   ]
  },
  {
   "cell_type": "code",
   "execution_count": 9,
   "id": "cba53fed",
   "metadata": {},
   "outputs": [
    {
     "data": {
      "text/plain": [
       "{'Covid': 0, 'Normal': 1}"
      ]
     },
     "execution_count": 9,
     "metadata": {},
     "output_type": "execute_result"
    }
   ],
   "source": [
    "train_generator.class_indices"
   ]
  },
  {
   "cell_type": "code",
   "execution_count": 10,
   "id": "bbf0fe2f",
   "metadata": {},
   "outputs": [
    {
     "name": "stdout",
     "output_type": "stream",
     "text": [
      "Found 60 images belonging to 2 classes.\n"
     ]
    }
   ],
   "source": [
    "validation_generator = test_dataset.flow_from_directory(\n",
    "    'C:/Users/lenovo/Downloads/CovidDataset-20200427T133042Z-001/CovidDataset/Val',\n",
    "    target_size = (224,224),\n",
    "    batch_size = 32,\n",
    "    class_mode = 'binary')"
   ]
  },
  {
   "cell_type": "code",
   "execution_count": 11,
   "id": "d5df09f9",
   "metadata": {},
   "outputs": [
    {
     "name": "stdout",
     "output_type": "stream",
     "text": [
      "WARNING:tensorflow:From <ipython-input-11-12d29f79da78>:1: Model.fit_generator (from tensorflow.python.keras.engine.training) is deprecated and will be removed in a future version.\n",
      "Instructions for updating:\n",
      "Please use Model.fit, which supports generators.\n",
      "Epoch 1/20\n",
      "5/5 [==============================] - 239s 48s/step - loss: 0.7736 - accuracy: 0.5813 - val_loss: 0.6836 - val_accuracy: 0.6833\n",
      "Epoch 2/20\n",
      "5/5 [==============================] - 125s 25s/step - loss: 0.6622 - accuracy: 0.5875 - val_loss: 0.6299 - val_accuracy: 0.8667\n",
      "Epoch 3/20\n",
      "5/5 [==============================] - 35s 7s/step - loss: 0.4487 - accuracy: 0.8125 - val_loss: 0.3283 - val_accuracy: 0.9333\n",
      "Epoch 4/20\n",
      "5/5 [==============================] - 36s 7s/step - loss: 0.3523 - accuracy: 0.8625 - val_loss: 0.3702 - val_accuracy: 0.9333\n",
      "Epoch 5/20\n",
      "5/5 [==============================] - 53s 11s/step - loss: 0.2988 - accuracy: 0.8813 - val_loss: 0.2043 - val_accuracy: 0.9500\n",
      "Epoch 6/20\n",
      "5/5 [==============================] - 37s 7s/step - loss: 0.2435 - accuracy: 0.8875 - val_loss: 0.2946 - val_accuracy: 0.9667\n",
      "Epoch 7/20\n",
      "5/5 [==============================] - 36s 7s/step - loss: 0.2162 - accuracy: 0.9125 - val_loss: 0.1106 - val_accuracy: 0.9833\n",
      "Epoch 8/20\n",
      "5/5 [==============================] - 36s 7s/step - loss: 0.2327 - accuracy: 0.9312 - val_loss: 0.2795 - val_accuracy: 0.9833\n",
      "Epoch 9/20\n",
      "5/5 [==============================] - 36s 7s/step - loss: 0.1512 - accuracy: 0.9563 - val_loss: 0.0549 - val_accuracy: 0.9833\n",
      "Epoch 10/20\n",
      "5/5 [==============================] - 34s 7s/step - loss: 0.1723 - accuracy: 0.9375 - val_loss: 0.0723 - val_accuracy: 0.9833\n",
      "Epoch 11/20\n",
      "5/5 [==============================] - 34s 7s/step - loss: 0.1526 - accuracy: 0.9375 - val_loss: 0.1127 - val_accuracy: 0.9833\n",
      "Epoch 12/20\n",
      "5/5 [==============================] - 36s 7s/step - loss: 0.0919 - accuracy: 0.9688 - val_loss: 0.0391 - val_accuracy: 0.9833\n",
      "Epoch 13/20\n",
      "5/5 [==============================] - 35s 7s/step - loss: 0.1910 - accuracy: 0.9250 - val_loss: 0.0891 - val_accuracy: 0.9667\n",
      "Epoch 14/20\n",
      "5/5 [==============================] - 34s 7s/step - loss: 0.1668 - accuracy: 0.9563 - val_loss: 0.1426 - val_accuracy: 0.9667\n",
      "Epoch 15/20\n",
      "5/5 [==============================] - 34s 7s/step - loss: 0.1664 - accuracy: 0.9625 - val_loss: 0.0879 - val_accuracy: 0.9833\n",
      "Epoch 16/20\n",
      "5/5 [==============================] - 35s 7s/step - loss: 0.1294 - accuracy: 0.9688 - val_loss: 0.0638 - val_accuracy: 0.9667\n",
      "Epoch 17/20\n",
      "5/5 [==============================] - 35s 7s/step - loss: 0.1485 - accuracy: 0.9375 - val_loss: 0.0687 - val_accuracy: 0.9667\n",
      "Epoch 18/20\n",
      "5/5 [==============================] - 34s 7s/step - loss: 0.1547 - accuracy: 0.9563 - val_loss: 0.0771 - val_accuracy: 0.9667\n",
      "Epoch 19/20\n",
      "5/5 [==============================] - 34s 7s/step - loss: 0.1487 - accuracy: 0.9500 - val_loss: 0.1491 - val_accuracy: 0.9667\n",
      "Epoch 20/20\n",
      "5/5 [==============================] - 34s 7s/step - loss: 0.1328 - accuracy: 0.9563 - val_loss: 0.0740 - val_accuracy: 0.9667\n"
     ]
    }
   ],
   "source": [
    "hist = model.fit_generator(\n",
    "    train_generator,\n",
    "    steps_per_epoch=5,\n",
    "    epochs = 20,\n",
    "    validation_data = validation_generator,\n",
    "    validation_steps=2\n",
    ")"
   ]
  },
  {
   "cell_type": "code",
   "execution_count": 12,
   "id": "b289ec6b",
   "metadata": {},
   "outputs": [],
   "source": [
    "model.save(\"model_hdv.h5\")"
   ]
  },
  {
   "cell_type": "code",
   "execution_count": 13,
   "id": "fc078ea7",
   "metadata": {},
   "outputs": [
    {
     "name": "stdout",
     "output_type": "stream",
     "text": [
      "WARNING:tensorflow:From <ipython-input-13-e4ade065aa26>:1: Model.evaluate_generator (from tensorflow.python.keras.engine.training) is deprecated and will be removed in a future version.\n",
      "Instructions for updating:\n",
      "Please use Model.evaluate, which supports generators.\n"
     ]
    },
    {
     "data": {
      "text/plain": [
       "[0.10348884761333466, 0.96875]"
      ]
     },
     "execution_count": 13,
     "metadata": {},
     "output_type": "execute_result"
    }
   ],
   "source": [
    "model.evaluate_generator(train_generator)"
   ]
  },
  {
   "cell_type": "code",
   "execution_count": 14,
   "id": "d21a2118",
   "metadata": {},
   "outputs": [
    {
     "data": {
      "text/plain": [
       "[0.07402071356773376, 0.9666666388511658]"
      ]
     },
     "execution_count": 14,
     "metadata": {},
     "output_type": "execute_result"
    }
   ],
   "source": [
    "model.evaluate_generator(validation_generator)"
   ]
  },
  {
   "cell_type": "code",
   "execution_count": 26,
   "id": "0bbad267",
   "metadata": {},
   "outputs": [],
   "source": [
    "model=load_model('model_hdv.h5')"
   ]
  },
  {
   "cell_type": "code",
   "execution_count": 28,
   "id": "d0552860",
   "metadata": {},
   "outputs": [],
   "source": [
    "import os"
   ]
  },
  {
   "cell_type": "code",
   "execution_count": 29,
   "id": "8392c65d",
   "metadata": {},
   "outputs": [
    {
     "data": {
      "text/plain": [
       "{'Covid': 0, 'Normal': 1}"
      ]
     },
     "execution_count": 29,
     "metadata": {},
     "output_type": "execute_result"
    }
   ],
   "source": [
    "train_generator.class_indices"
   ]
  },
  {
   "cell_type": "code",
   "execution_count": 40,
   "id": "898f6efb",
   "metadata": {},
   "outputs": [],
   "source": [
    "y_actual=[]\n",
    "y_test=[]"
   ]
  },
  {
   "cell_type": "code",
   "execution_count": 31,
   "id": "5b37842b",
   "metadata": {},
   "outputs": [],
   "source": [
    "for i in os.listdir(\"C:/Users/lenovo/Downloads/CovidDataset-20200427T133042Z-001/CovidDataset/Val/Normal/\"):\n",
    "    img = image.load_img(\"C:/Users/lenovo/Downloads/CovidDataset-20200427T133042Z-001/CovidDataset/Val/Normal/\"+i, target_size=(224,224))\n",
    "    img = image.img_to_array(img)\n",
    "    img = np.expand_dims(img,axis = 0)\n",
    "    p = model.predict_classes(img)\n",
    "    y_test.append(p[0,0])\n",
    "    y_actual.append(1)"
   ]
  },
  {
   "cell_type": "code",
   "execution_count": 32,
   "id": "1912c28f",
   "metadata": {},
   "outputs": [],
   "source": [
    "for i in os.listdir(\"C:/Users/lenovo/Downloads/CovidDataset-20200427T133042Z-001/CovidDataset/Val/Covid/\"):\n",
    "    img = image.load_img(\"C:/Users/lenovo/Downloads/CovidDataset-20200427T133042Z-001/CovidDataset/Val/Covid/\"+i, target_size=(224,224))\n",
    "    img = image.img_to_array(img)\n",
    "    img = np.expand_dims(img,axis = 0)\n",
    "    p = model.predict_classes(img)\n",
    "    y_test.append(p[0,0])\n",
    "    y_actual.append(0)"
   ]
  },
  {
   "cell_type": "code",
   "execution_count": 33,
   "id": "83c1c813",
   "metadata": {},
   "outputs": [],
   "source": [
    "y_actual=np.array(y_actual)\n",
    "y_test=np.array(y_test)"
   ]
  },
  {
   "cell_type": "code",
   "execution_count": 22,
   "id": "a07c19bc",
   "metadata": {},
   "outputs": [],
   "source": [
    "from sklearn.metrics import confusion_matrix"
   ]
  },
  {
   "cell_type": "code",
   "execution_count": 23,
   "id": "11728b4a",
   "metadata": {},
   "outputs": [],
   "source": [
    "cm=confusion_matrix(y_actual,y_test)"
   ]
  },
  {
   "cell_type": "code",
   "execution_count": 24,
   "id": "622e7604",
   "metadata": {},
   "outputs": [],
   "source": [
    "import seaborn as sns"
   ]
  },
  {
   "cell_type": "code",
   "execution_count": 25,
   "id": "49a8d8f4",
   "metadata": {},
   "outputs": [
    {
     "data": {
      "text/plain": [
       "<AxesSubplot:>"
      ]
     },
     "execution_count": 25,
     "metadata": {},
     "output_type": "execute_result"
    },
    {
     "data": {
      "image/png": "[encoded data removed]",
      "text/plain": [
       "<Figure size 432x288 with 2 Axes>"
      ]
     },
     "metadata": {
      "needs_background": "light"
     },
     "output_type": "display_data"
    }
   ],
   "source": [
    "sns.heatmap(cm,cmap=\"plasma\",annot=True)"
   ]
  },
  {
   "cell_type": "code",
   "execution_count": null,
   "id": "e7d0b89d",
   "metadata": {},
   "outputs": [],
   "source": [
    "img = image.load_img(input(\"Input test image path:\"))\n",
    "img = image.img_to_array(img)\n",
    "img = np.expand_dims(img,axis = 0)\n",
    "p = model.predict_classes(img)\n",
    "print(p[0,0])"
   ]
  },
  {
   "cell_type": "code",
   "execution_count": null,
   "id": "61a1168d-74e4-446b-a1a9-bf401182ecbc",
   "metadata": {},
   "outputs": [],
   "source": []
  }
 ],
 "metadata": {
  "kernelspec": {
   "display_name": "Python",
   "language": "python",
   "name": "conda-env-python-py"
  },
  "language_info": {
   "codemirror_mode": {
    "name": "ipython",
    "version": 3
   },
   "file_extension": ".py",
   "mimetype": "text/x-python",
   "name": "python",
   "nbconvert_exporter": "python",
   "pygments_lexer": "ipython3",
   "version": "3.6.13"
  }
 },
 "nbformat": 4,
 "nbformat_minor": 5
}
